{
 "cells": [
  {
   "cell_type": "code",
   "execution_count": 1,
   "metadata": {},
   "outputs": [],
   "source": [
    "import pandas as pd"
   ]
  },
  {
   "cell_type": "code",
   "execution_count": 47,
   "metadata": {},
   "outputs": [],
   "source": [
    "df = pd.read_csv('https://raw.githubusercontent.com/timesend/Network_Graph_project/master/datasets/dataset.csv')"
   ]
  },
  {
   "cell_type": "code",
   "execution_count": 48,
   "metadata": {},
   "outputs": [],
   "source": [
    "df = df.sort_values(by=['user_id','date_created'])\n"
   ]
  },
  {
   "cell_type": "code",
   "execution_count": 49,
   "metadata": {},
   "outputs": [
    {
     "data": {
      "text/html": [
       "<div>\n",
       "<style scoped>\n",
       "    .dataframe tbody tr th:only-of-type {\n",
       "        vertical-align: middle;\n",
       "    }\n",
       "\n",
       "    .dataframe tbody tr th {\n",
       "        vertical-align: top;\n",
       "    }\n",
       "\n",
       "    .dataframe thead th {\n",
       "        text-align: right;\n",
       "    }\n",
       "</style>\n",
       "<table border=\"1\" class=\"dataframe\">\n",
       "  <thead>\n",
       "    <tr style=\"text-align: right;\">\n",
       "      <th></th>\n",
       "      <th>user_id</th>\n",
       "      <th>number_of_ticks</th>\n",
       "      <th>date_created</th>\n",
       "      <th>chapter</th>\n",
       "      <th>book</th>\n",
       "      <th>numberofentriesofbook</th>\n",
       "      <th>numberofusersofbook</th>\n",
       "      <th>product_manning_id</th>\n",
       "      <th>user_owns_book</th>\n",
       "    </tr>\n",
       "  </thead>\n",
       "  <tbody>\n",
       "    <tr>\n",
       "      <th>0</th>\n",
       "      <td>-2147277864</td>\n",
       "      <td>1</td>\n",
       "      <td>\"2019-10-27 08:58:15\"</td>\n",
       "      <td>chapter-8</td>\n",
       "      <td>bhargava</td>\n",
       "      <td>888</td>\n",
       "      <td>440</td>\n",
       "      <td>610</td>\n",
       "      <td>1</td>\n",
       "    </tr>\n",
       "    <tr>\n",
       "      <th>1</th>\n",
       "      <td>-2146355313</td>\n",
       "      <td>8</td>\n",
       "      <td>\"2019-12-14 10:05:50\"</td>\n",
       "      <td>chapter-8</td>\n",
       "      <td>fain3</td>\n",
       "      <td>737</td>\n",
       "      <td>225</td>\n",
       "      <td>1069</td>\n",
       "      <td>1</td>\n",
       "    </tr>\n",
       "    <tr>\n",
       "      <th>2</th>\n",
       "      <td>-2146355313</td>\n",
       "      <td>8</td>\n",
       "      <td>\"2019-12-14 10:05:50\"</td>\n",
       "      <td>chapter-1</td>\n",
       "      <td>ramamurthy</td>\n",
       "      <td>715</td>\n",
       "      <td>202</td>\n",
       "      <td>1120</td>\n",
       "      <td>1</td>\n",
       "    </tr>\n",
       "    <tr>\n",
       "      <th>3</th>\n",
       "      <td>-2146355313</td>\n",
       "      <td>8</td>\n",
       "      <td>\"2019-12-14 10:05:50\"</td>\n",
       "      <td>chapter-1</td>\n",
       "      <td>thomas</td>\n",
       "      <td>445</td>\n",
       "      <td>136</td>\n",
       "      <td>816</td>\n",
       "      <td>1</td>\n",
       "    </tr>\n",
       "    <tr>\n",
       "      <th>4</th>\n",
       "      <td>-2146168866</td>\n",
       "      <td>2</td>\n",
       "      <td>\"2019-11-27 05:09:29\"</td>\n",
       "      <td>about-this-book</td>\n",
       "      <td>prasanna</td>\n",
       "      <td>21</td>\n",
       "      <td>14</td>\n",
       "      <td>273</td>\n",
       "      <td>0</td>\n",
       "    </tr>\n",
       "  </tbody>\n",
       "</table>\n",
       "</div>"
      ],
      "text/plain": [
       "      user_id  number_of_ticks            date_created          chapter  \\\n",
       "0 -2147277864                1   \"2019-10-27 08:58:15\"        chapter-8   \n",
       "1 -2146355313                8   \"2019-12-14 10:05:50\"        chapter-8   \n",
       "2 -2146355313                8   \"2019-12-14 10:05:50\"        chapter-1   \n",
       "3 -2146355313                8   \"2019-12-14 10:05:50\"        chapter-1   \n",
       "4 -2146168866                2   \"2019-11-27 05:09:29\"  about-this-book   \n",
       "\n",
       "         book  numberofentriesofbook  numberofusersofbook  product_manning_id  \\\n",
       "0    bhargava                    888                  440                 610   \n",
       "1       fain3                    737                  225                1069   \n",
       "2  ramamurthy                    715                  202                1120   \n",
       "3      thomas                    445                  136                 816   \n",
       "4    prasanna                     21                   14                 273   \n",
       "\n",
       "   user_owns_book  \n",
       "0               1  \n",
       "1               1  \n",
       "2               1  \n",
       "3               1  \n",
       "4               0  "
      ]
     },
     "execution_count": 49,
     "metadata": {},
     "output_type": "execute_result"
    }
   ],
   "source": [
    "df.head()"
   ]
  },
  {
   "cell_type": "markdown",
   "metadata": {},
   "source": [
    "## create the edges"
   ]
  },
  {
   "cell_type": "code",
   "execution_count": 25,
   "metadata": {},
   "outputs": [],
   "source": [
    "df['source'] = df['book']\n",
    "df['target'] = df['source'].shift(-1)"
   ]
  },
  {
   "cell_type": "code",
   "execution_count": 26,
   "metadata": {},
   "outputs": [
    {
     "data": {
      "text/html": [
       "<div>\n",
       "<style scoped>\n",
       "    .dataframe tbody tr th:only-of-type {\n",
       "        vertical-align: middle;\n",
       "    }\n",
       "\n",
       "    .dataframe tbody tr th {\n",
       "        vertical-align: top;\n",
       "    }\n",
       "\n",
       "    .dataframe thead th {\n",
       "        text-align: right;\n",
       "    }\n",
       "</style>\n",
       "<table border=\"1\" class=\"dataframe\">\n",
       "  <thead>\n",
       "    <tr style=\"text-align: right;\">\n",
       "      <th></th>\n",
       "      <th>user_id</th>\n",
       "      <th>number_of_ticks</th>\n",
       "      <th>date_created</th>\n",
       "      <th>chapter</th>\n",
       "      <th>book</th>\n",
       "      <th>numberofentriesofbook</th>\n",
       "      <th>numberofusersofbook</th>\n",
       "      <th>product_manning_id</th>\n",
       "      <th>user_owns_book</th>\n",
       "      <th>source</th>\n",
       "      <th>target</th>\n",
       "      <th>target_user</th>\n",
       "    </tr>\n",
       "  </thead>\n",
       "  <tbody>\n",
       "    <tr>\n",
       "      <th>0</th>\n",
       "      <td>-2147277864</td>\n",
       "      <td>1</td>\n",
       "      <td>\"2019-10-27 08:58:15\"</td>\n",
       "      <td>chapter-8</td>\n",
       "      <td>bhargava</td>\n",
       "      <td>888</td>\n",
       "      <td>440</td>\n",
       "      <td>610</td>\n",
       "      <td>1</td>\n",
       "      <td>bhargava</td>\n",
       "      <td>fain3</td>\n",
       "      <td>-2146355313</td>\n",
       "    </tr>\n",
       "    <tr>\n",
       "      <th>1</th>\n",
       "      <td>-2146355313</td>\n",
       "      <td>8</td>\n",
       "      <td>\"2019-12-14 10:05:50\"</td>\n",
       "      <td>chapter-8</td>\n",
       "      <td>fain3</td>\n",
       "      <td>737</td>\n",
       "      <td>225</td>\n",
       "      <td>1069</td>\n",
       "      <td>1</td>\n",
       "      <td>fain3</td>\n",
       "      <td>ramamurthy</td>\n",
       "      <td>-2146355313</td>\n",
       "    </tr>\n",
       "    <tr>\n",
       "      <th>2</th>\n",
       "      <td>-2146355313</td>\n",
       "      <td>8</td>\n",
       "      <td>\"2019-12-14 10:05:50\"</td>\n",
       "      <td>chapter-1</td>\n",
       "      <td>ramamurthy</td>\n",
       "      <td>715</td>\n",
       "      <td>202</td>\n",
       "      <td>1120</td>\n",
       "      <td>1</td>\n",
       "      <td>ramamurthy</td>\n",
       "      <td>thomas</td>\n",
       "      <td>-2146355313</td>\n",
       "    </tr>\n",
       "    <tr>\n",
       "      <th>3</th>\n",
       "      <td>-2146355313</td>\n",
       "      <td>8</td>\n",
       "      <td>\"2019-12-14 10:05:50\"</td>\n",
       "      <td>chapter-1</td>\n",
       "      <td>thomas</td>\n",
       "      <td>445</td>\n",
       "      <td>136</td>\n",
       "      <td>816</td>\n",
       "      <td>1</td>\n",
       "      <td>thomas</td>\n",
       "      <td>prasanna</td>\n",
       "      <td>-2146168866</td>\n",
       "    </tr>\n",
       "    <tr>\n",
       "      <th>4</th>\n",
       "      <td>-2146168866</td>\n",
       "      <td>2</td>\n",
       "      <td>\"2019-11-27 05:09:29\"</td>\n",
       "      <td>about-this-book</td>\n",
       "      <td>prasanna</td>\n",
       "      <td>21</td>\n",
       "      <td>14</td>\n",
       "      <td>273</td>\n",
       "      <td>0</td>\n",
       "      <td>prasanna</td>\n",
       "      <td>mcnamara</td>\n",
       "      <td>-2145886989</td>\n",
       "    </tr>\n",
       "  </tbody>\n",
       "</table>\n",
       "</div>"
      ],
      "text/plain": [
       "      user_id  number_of_ticks            date_created          chapter  \\\n",
       "0 -2147277864                1   \"2019-10-27 08:58:15\"        chapter-8   \n",
       "1 -2146355313                8   \"2019-12-14 10:05:50\"        chapter-8   \n",
       "2 -2146355313                8   \"2019-12-14 10:05:50\"        chapter-1   \n",
       "3 -2146355313                8   \"2019-12-14 10:05:50\"        chapter-1   \n",
       "4 -2146168866                2   \"2019-11-27 05:09:29\"  about-this-book   \n",
       "\n",
       "         book  numberofentriesofbook  numberofusersofbook  product_manning_id  \\\n",
       "0    bhargava                    888                  440                 610   \n",
       "1       fain3                    737                  225                1069   \n",
       "2  ramamurthy                    715                  202                1120   \n",
       "3      thomas                    445                  136                 816   \n",
       "4    prasanna                     21                   14                 273   \n",
       "\n",
       "   user_owns_book      source      target  target_user  \n",
       "0               1    bhargava       fain3  -2146355313  \n",
       "1               1       fain3  ramamurthy  -2146355313  \n",
       "2               1  ramamurthy      thomas  -2146355313  \n",
       "3               1      thomas    prasanna  -2146168866  \n",
       "4               0    prasanna    mcnamara  -2145886989  "
      ]
     },
     "execution_count": 26,
     "metadata": {},
     "output_type": "execute_result"
    }
   ],
   "source": [
    "df.head()"
   ]
  },
  {
   "cell_type": "code",
   "execution_count": 29,
   "metadata": {},
   "outputs": [],
   "source": [
    "# ensure that the edges are the same user. \n",
    "df['target_user'] = df['user_id'].shift(-1)"
   ]
  },
  {
   "cell_type": "code",
   "execution_count": 39,
   "metadata": {},
   "outputs": [],
   "source": [
    "df = df[df.user_id == df.target_user]"
   ]
  },
  {
   "cell_type": "code",
   "execution_count": 40,
   "metadata": {},
   "outputs": [
    {
     "data": {
      "text/html": [
       "<div>\n",
       "<style scoped>\n",
       "    .dataframe tbody tr th:only-of-type {\n",
       "        vertical-align: middle;\n",
       "    }\n",
       "\n",
       "    .dataframe tbody tr th {\n",
       "        vertical-align: top;\n",
       "    }\n",
       "\n",
       "    .dataframe thead th {\n",
       "        text-align: right;\n",
       "    }\n",
       "</style>\n",
       "<table border=\"1\" class=\"dataframe\">\n",
       "  <thead>\n",
       "    <tr style=\"text-align: right;\">\n",
       "      <th></th>\n",
       "      <th>user_id</th>\n",
       "      <th>source</th>\n",
       "      <th>target</th>\n",
       "    </tr>\n",
       "  </thead>\n",
       "  <tbody>\n",
       "    <tr>\n",
       "      <th>1</th>\n",
       "      <td>-2146355313</td>\n",
       "      <td>fain3</td>\n",
       "      <td>ramamurthy</td>\n",
       "    </tr>\n",
       "    <tr>\n",
       "      <th>2</th>\n",
       "      <td>-2146355313</td>\n",
       "      <td>ramamurthy</td>\n",
       "      <td>thomas</td>\n",
       "    </tr>\n",
       "    <tr>\n",
       "      <th>29</th>\n",
       "      <td>-2145886989</td>\n",
       "      <td>mcnamara</td>\n",
       "      <td>mcnamara</td>\n",
       "    </tr>\n",
       "    <tr>\n",
       "      <th>32</th>\n",
       "      <td>-2145886989</td>\n",
       "      <td>mcnamara</td>\n",
       "      <td>mcnamara</td>\n",
       "    </tr>\n",
       "    <tr>\n",
       "      <th>7</th>\n",
       "      <td>-2145886989</td>\n",
       "      <td>mcnamara</td>\n",
       "      <td>mcnamara</td>\n",
       "    </tr>\n",
       "    <tr>\n",
       "      <th>...</th>\n",
       "      <td>...</td>\n",
       "      <td>...</td>\n",
       "      <td>...</td>\n",
       "    </tr>\n",
       "    <tr>\n",
       "      <th>4989</th>\n",
       "      <td>-2019295583</td>\n",
       "      <td>roestenburg</td>\n",
       "      <td>roestenburg</td>\n",
       "    </tr>\n",
       "    <tr>\n",
       "      <th>4990</th>\n",
       "      <td>-2019295583</td>\n",
       "      <td>roestenburg</td>\n",
       "      <td>roestenburg</td>\n",
       "    </tr>\n",
       "    <tr>\n",
       "      <th>4991</th>\n",
       "      <td>-2019295583</td>\n",
       "      <td>roestenburg</td>\n",
       "      <td>roestenburg</td>\n",
       "    </tr>\n",
       "    <tr>\n",
       "      <th>4992</th>\n",
       "      <td>-2019295583</td>\n",
       "      <td>roestenburg</td>\n",
       "      <td>roestenburg</td>\n",
       "    </tr>\n",
       "    <tr>\n",
       "      <th>4993</th>\n",
       "      <td>-2019295583</td>\n",
       "      <td>roestenburg</td>\n",
       "      <td>roestenburg</td>\n",
       "    </tr>\n",
       "  </tbody>\n",
       "</table>\n",
       "<p>4358 rows × 3 columns</p>\n",
       "</div>"
      ],
      "text/plain": [
       "         user_id       source       target\n",
       "1    -2146355313        fain3   ramamurthy\n",
       "2    -2146355313   ramamurthy       thomas\n",
       "29   -2145886989     mcnamara     mcnamara\n",
       "32   -2145886989     mcnamara     mcnamara\n",
       "7    -2145886989     mcnamara     mcnamara\n",
       "...          ...          ...          ...\n",
       "4989 -2019295583  roestenburg  roestenburg\n",
       "4990 -2019295583  roestenburg  roestenburg\n",
       "4991 -2019295583  roestenburg  roestenburg\n",
       "4992 -2019295583  roestenburg  roestenburg\n",
       "4993 -2019295583  roestenburg  roestenburg\n",
       "\n",
       "[4358 rows x 3 columns]"
      ]
     },
     "execution_count": 40,
     "metadata": {},
     "output_type": "execute_result"
    }
   ],
   "source": [
    "df[['user_id', 'source', 'target']]"
   ]
  },
  {
   "cell_type": "code",
   "execution_count": 44,
   "metadata": {},
   "outputs": [],
   "source": [
    "# drop the edges that doesnt point to anything\n",
    "df = df.dropna()"
   ]
  },
  {
   "cell_type": "markdown",
   "metadata": {},
   "source": [
    "## draw the graph"
   ]
  },
  {
   "cell_type": "code",
   "execution_count": 45,
   "metadata": {},
   "outputs": [],
   "source": [
    "import networkx as nx\n",
    "G=nx.from_pandas_edgelist(df,\"source\",'target', create_using=nx.DiGraph)"
   ]
  },
  {
   "cell_type": "code",
   "execution_count": 46,
   "metadata": {},
   "outputs": [
    {
     "data": {
      "image/png": "[encoded data removed]",
      "text/plain": [
       "<Figure size 432x288 with 1 Axes>"
      ]
     },
     "metadata": {},
     "output_type": "display_data"
    }
   ],
   "source": [
    "nx.draw(G)"
   ]
  },
  {
   "cell_type": "code",
   "execution_count": 43,
   "metadata": {},
   "outputs": [],
   "source": [
    "df.to_csv(\"./datasets/graph_data.csv\")"
   ]
  },
  {
   "cell_type": "code",
   "execution_count": null,
   "metadata": {},
   "outputs": [],
   "source": []
  }
 ],
 "metadata": {
  "kernelspec": {
   "display_name": "Python 3",
   "language": "python",
   "name": "python3"
  },
  "language_info": {
   "codemirror_mode": {
    "name": "ipython",
    "version": 3
   },
   "file_extension": ".py",
   "mimetype": "text/x-python",
   "name": "python",
   "nbconvert_exporter": "python",
   "pygments_lexer": "ipython3",
   "version": "3.8.6"
  }
 },
 "nbformat": 4,
 "nbformat_minor": 4
}
